{
 "cells": [
  {
   "cell_type": "code",
   "execution_count": 12,
   "id": "95986f02",
   "metadata": {},
   "outputs": [],
   "source": [
    "import pandas as pd"
   ]
  },
  {
   "cell_type": "code",
   "execution_count": 13,
   "id": "817df8bc",
   "metadata": {
    "scrolled": true
   },
   "outputs": [
    {
     "name": "stdout",
     "output_type": "stream",
     "text": [
      "Requirement already satisfied: pandas in c:\\users\\admin\\anaconda3\\envs\\sakthi\\lib\\site-packages (1.5.2)\n",
      "Requirement already satisfied: python-dateutil>=2.8.1 in c:\\users\\admin\\anaconda3\\envs\\sakthi\\lib\\site-packages (from pandas) (2.8.2)\n",
      "Requirement already satisfied: pytz>=2020.1 in c:\\users\\admin\\anaconda3\\envs\\sakthi\\lib\\site-packages (from pandas) (2022.6)\n",
      "Requirement already satisfied: numpy>=1.21.0 in c:\\users\\admin\\anaconda3\\envs\\sakthi\\lib\\site-packages (from pandas) (1.23.5)\n",
      "Requirement already satisfied: six>=1.5 in c:\\users\\admin\\anaconda3\\envs\\sakthi\\lib\\site-packages (from python-dateutil>=2.8.1->pandas) (1.16.0)\n",
      "Note: you may need to restart the kernel to use updated packages.\n"
     ]
    }
   ],
   "source": [
    "pip install pandas"
   ]
  },
  {
   "cell_type": "code",
   "execution_count": null,
   "id": "16b59ca4",
   "metadata": {
    "scrolled": false
   },
   "outputs": [],
   "source": []
  },
  {
   "cell_type": "code",
   "execution_count": 19,
   "id": "dd987b64",
   "metadata": {},
   "outputs": [],
   "source": [
    "import pandas as pd"
   ]
  },
  {
   "cell_type": "code",
   "execution_count": null,
   "id": "2d8b11d5",
   "metadata": {},
   "outputs": [],
   "source": []
  },
  {
   "cell_type": "code",
   "execution_count": 15,
   "id": "2e2c5d4f",
   "metadata": {},
   "outputs": [],
   "source": [
    "a1=pd.Series(['one',2,3,4,5],index=[0,1,2,3,4])"
   ]
  },
  {
   "cell_type": "code",
   "execution_count": 16,
   "id": "ddce2d0c",
   "metadata": {},
   "outputs": [
    {
     "name": "stdout",
     "output_type": "stream",
     "text": [
      "0    one\n",
      "1      2\n",
      "2      3\n",
      "3      4\n",
      "4      5\n",
      "dtype: object\n"
     ]
    }
   ],
   "source": [
    "print(a1)"
   ]
  },
  {
   "cell_type": "code",
   "execution_count": 21,
   "id": "c8db9a7a",
   "metadata": {},
   "outputs": [],
   "source": [
    "import pandas as pd"
   ]
  },
  {
   "cell_type": "code",
   "execution_count": 41,
   "id": "3bcb4509",
   "metadata": {},
   "outputs": [],
   "source": [
    "a2=pd.Series(['snacks',2,3,4,5],index=[6,1,2,3,7])"
   ]
  },
  {
   "cell_type": "code",
   "execution_count": null,
   "id": "af871d8f",
   "metadata": {},
   "outputs": [],
   "source": []
  },
  {
   "cell_type": "code",
   "execution_count": 42,
   "id": "46a33d7b",
   "metadata": {
    "scrolled": true
   },
   "outputs": [
    {
     "name": "stdout",
     "output_type": "stream",
     "text": [
      "6    snacks\n",
      "1         2\n",
      "2         3\n",
      "3         4\n",
      "7         5\n",
      "dtype: object\n"
     ]
    }
   ],
   "source": [
    "print(a2)"
   ]
  },
  {
   "cell_type": "code",
   "execution_count": 56,
   "id": "6fca42db",
   "metadata": {},
   "outputs": [],
   "source": [
    "import numpy as np"
   ]
  },
  {
   "cell_type": "code",
   "execution_count": 52,
   "id": "77424d4c",
   "metadata": {},
   "outputs": [],
   "source": [
    "season={\"rainy\":{1:'nov',2:'dec',3:'jan',4:'feb'},\"summer\":{1:'mar',2:'apr',3:'may',4:'jun'}}"
   ]
  },
  {
   "cell_type": "code",
   "execution_count": 54,
   "id": "1fc3bd88",
   "metadata": {},
   "outputs": [],
   "source": [
    "d=pd.DataFrame(season,columns=[\"rainy\",\"summer\"])\n"
   ]
  },
  {
   "cell_type": "code",
   "execution_count": 55,
   "id": "fea779a3",
   "metadata": {},
   "outputs": [
    {
     "data": {
      "text/html": [
       "<div>\n",
       "<style scoped>\n",
       "    .dataframe tbody tr th:only-of-type {\n",
       "        vertical-align: middle;\n",
       "    }\n",
       "\n",
       "    .dataframe tbody tr th {\n",
       "        vertical-align: top;\n",
       "    }\n",
       "\n",
       "    .dataframe thead th {\n",
       "        text-align: right;\n",
       "    }\n",
       "</style>\n",
       "<table border=\"1\" class=\"dataframe\">\n",
       "  <thead>\n",
       "    <tr style=\"text-align: right;\">\n",
       "      <th></th>\n",
       "      <th>rainy</th>\n",
       "      <th>summer</th>\n",
       "    </tr>\n",
       "  </thead>\n",
       "  <tbody>\n",
       "    <tr>\n",
       "      <th>1</th>\n",
       "      <td>nov</td>\n",
       "      <td>mar</td>\n",
       "    </tr>\n",
       "    <tr>\n",
       "      <th>2</th>\n",
       "      <td>dec</td>\n",
       "      <td>apr</td>\n",
       "    </tr>\n",
       "    <tr>\n",
       "      <th>3</th>\n",
       "      <td>jan</td>\n",
       "      <td>may</td>\n",
       "    </tr>\n",
       "    <tr>\n",
       "      <th>4</th>\n",
       "      <td>feb</td>\n",
       "      <td>jun</td>\n",
       "    </tr>\n",
       "  </tbody>\n",
       "</table>\n",
       "</div>"
      ],
      "text/plain": [
       "  rainy summer\n",
       "1   nov    mar\n",
       "2   dec    apr\n",
       "3   jan    may\n",
       "4   feb    jun"
      ]
     },
     "execution_count": 55,
     "metadata": {},
     "output_type": "execute_result"
    }
   ],
   "source": [
    "d"
   ]
  },
  {
   "cell_type": "code",
   "execution_count": 58,
   "id": "4dcbe6eb",
   "metadata": {},
   "outputs": [],
   "source": [
    "a=pd.DataFrame(np.random.randint(0,300,size=(20,5)),columns=list(('abcde')))"
   ]
  },
  {
   "cell_type": "code",
   "execution_count": 59,
   "id": "942167d4",
   "metadata": {},
   "outputs": [
    {
     "name": "stdout",
     "output_type": "stream",
     "text": [
      "      a    b    c    d    e\n",
      "0   293  156   77   86  230\n",
      "1   290  158  279    9  205\n",
      "2   283   18  100  225    5\n",
      "3    15  120  196  257  157\n",
      "4    44  119  221  255  259\n",
      "5    63  268   38  282  278\n",
      "6    36  102   22  172  129\n",
      "7    23  269  177  239  286\n",
      "8   162  162  273  134   25\n",
      "9   278  295  185  106  182\n",
      "10  115  179  127   61  265\n",
      "11   30   20  128  247  121\n",
      "12    2  109  138  265   60\n",
      "13  239  286   68   17   13\n",
      "14   56  248  214  295  117\n",
      "15  154  219   23  196  294\n",
      "16  220  294    1  188   76\n",
      "17  209  108   25   98  136\n",
      "18  205  144  160  243  146\n",
      "19  240  275  274  150  219\n"
     ]
    }
   ],
   "source": [
    "print(a\n",
    "    )"
   ]
  },
  {
   "cell_type": "code",
   "execution_count": 63,
   "id": "4010b569",
   "metadata": {},
   "outputs": [],
   "source": [
    "a.to_csv('C:/Users/ADMIN/Desktop/sakthi2.csv')"
   ]
  },
  {
   "cell_type": "code",
   "execution_count": 64,
   "id": "b01ca31b",
   "metadata": {},
   "outputs": [
    {
     "data": {
      "text/html": [
       "<div>\n",
       "<style scoped>\n",
       "    .dataframe tbody tr th:only-of-type {\n",
       "        vertical-align: middle;\n",
       "    }\n",
       "\n",
       "    .dataframe tbody tr th {\n",
       "        vertical-align: top;\n",
       "    }\n",
       "\n",
       "    .dataframe thead th {\n",
       "        text-align: right;\n",
       "    }\n",
       "</style>\n",
       "<table border=\"1\" class=\"dataframe\">\n",
       "  <thead>\n",
       "    <tr style=\"text-align: right;\">\n",
       "      <th></th>\n",
       "      <th>a</th>\n",
       "      <th>b</th>\n",
       "      <th>c</th>\n",
       "      <th>d</th>\n",
       "      <th>e</th>\n",
       "    </tr>\n",
       "  </thead>\n",
       "  <tbody>\n",
       "    <tr>\n",
       "      <th>0</th>\n",
       "      <td>293</td>\n",
       "      <td>156</td>\n",
       "      <td>77</td>\n",
       "      <td>86</td>\n",
       "      <td>230</td>\n",
       "    </tr>\n",
       "    <tr>\n",
       "      <th>1</th>\n",
       "      <td>290</td>\n",
       "      <td>158</td>\n",
       "      <td>279</td>\n",
       "      <td>9</td>\n",
       "      <td>205</td>\n",
       "    </tr>\n",
       "    <tr>\n",
       "      <th>2</th>\n",
       "      <td>283</td>\n",
       "      <td>18</td>\n",
       "      <td>100</td>\n",
       "      <td>225</td>\n",
       "      <td>5</td>\n",
       "    </tr>\n",
       "    <tr>\n",
       "      <th>3</th>\n",
       "      <td>15</td>\n",
       "      <td>120</td>\n",
       "      <td>196</td>\n",
       "      <td>257</td>\n",
       "      <td>157</td>\n",
       "    </tr>\n",
       "    <tr>\n",
       "      <th>4</th>\n",
       "      <td>44</td>\n",
       "      <td>119</td>\n",
       "      <td>221</td>\n",
       "      <td>255</td>\n",
       "      <td>259</td>\n",
       "    </tr>\n",
       "    <tr>\n",
       "      <th>5</th>\n",
       "      <td>63</td>\n",
       "      <td>268</td>\n",
       "      <td>38</td>\n",
       "      <td>282</td>\n",
       "      <td>278</td>\n",
       "    </tr>\n",
       "    <tr>\n",
       "      <th>6</th>\n",
       "      <td>36</td>\n",
       "      <td>102</td>\n",
       "      <td>22</td>\n",
       "      <td>172</td>\n",
       "      <td>129</td>\n",
       "    </tr>\n",
       "    <tr>\n",
       "      <th>7</th>\n",
       "      <td>23</td>\n",
       "      <td>269</td>\n",
       "      <td>177</td>\n",
       "      <td>239</td>\n",
       "      <td>286</td>\n",
       "    </tr>\n",
       "    <tr>\n",
       "      <th>8</th>\n",
       "      <td>162</td>\n",
       "      <td>162</td>\n",
       "      <td>273</td>\n",
       "      <td>134</td>\n",
       "      <td>25</td>\n",
       "    </tr>\n",
       "    <tr>\n",
       "      <th>9</th>\n",
       "      <td>278</td>\n",
       "      <td>295</td>\n",
       "      <td>185</td>\n",
       "      <td>106</td>\n",
       "      <td>182</td>\n",
       "    </tr>\n",
       "    <tr>\n",
       "      <th>10</th>\n",
       "      <td>115</td>\n",
       "      <td>179</td>\n",
       "      <td>127</td>\n",
       "      <td>61</td>\n",
       "      <td>265</td>\n",
       "    </tr>\n",
       "    <tr>\n",
       "      <th>11</th>\n",
       "      <td>30</td>\n",
       "      <td>20</td>\n",
       "      <td>128</td>\n",
       "      <td>247</td>\n",
       "      <td>121</td>\n",
       "    </tr>\n",
       "    <tr>\n",
       "      <th>12</th>\n",
       "      <td>2</td>\n",
       "      <td>109</td>\n",
       "      <td>138</td>\n",
       "      <td>265</td>\n",
       "      <td>60</td>\n",
       "    </tr>\n",
       "    <tr>\n",
       "      <th>13</th>\n",
       "      <td>239</td>\n",
       "      <td>286</td>\n",
       "      <td>68</td>\n",
       "      <td>17</td>\n",
       "      <td>13</td>\n",
       "    </tr>\n",
       "    <tr>\n",
       "      <th>14</th>\n",
       "      <td>56</td>\n",
       "      <td>248</td>\n",
       "      <td>214</td>\n",
       "      <td>295</td>\n",
       "      <td>117</td>\n",
       "    </tr>\n",
       "    <tr>\n",
       "      <th>15</th>\n",
       "      <td>154</td>\n",
       "      <td>219</td>\n",
       "      <td>23</td>\n",
       "      <td>196</td>\n",
       "      <td>294</td>\n",
       "    </tr>\n",
       "    <tr>\n",
       "      <th>16</th>\n",
       "      <td>220</td>\n",
       "      <td>294</td>\n",
       "      <td>1</td>\n",
       "      <td>188</td>\n",
       "      <td>76</td>\n",
       "    </tr>\n",
       "    <tr>\n",
       "      <th>17</th>\n",
       "      <td>209</td>\n",
       "      <td>108</td>\n",
       "      <td>25</td>\n",
       "      <td>98</td>\n",
       "      <td>136</td>\n",
       "    </tr>\n",
       "    <tr>\n",
       "      <th>18</th>\n",
       "      <td>205</td>\n",
       "      <td>144</td>\n",
       "      <td>160</td>\n",
       "      <td>243</td>\n",
       "      <td>146</td>\n",
       "    </tr>\n",
       "    <tr>\n",
       "      <th>19</th>\n",
       "      <td>240</td>\n",
       "      <td>275</td>\n",
       "      <td>274</td>\n",
       "      <td>150</td>\n",
       "      <td>219</td>\n",
       "    </tr>\n",
       "  </tbody>\n",
       "</table>\n",
       "</div>"
      ],
      "text/plain": [
       "      a    b    c    d    e\n",
       "0   293  156   77   86  230\n",
       "1   290  158  279    9  205\n",
       "2   283   18  100  225    5\n",
       "3    15  120  196  257  157\n",
       "4    44  119  221  255  259\n",
       "5    63  268   38  282  278\n",
       "6    36  102   22  172  129\n",
       "7    23  269  177  239  286\n",
       "8   162  162  273  134   25\n",
       "9   278  295  185  106  182\n",
       "10  115  179  127   61  265\n",
       "11   30   20  128  247  121\n",
       "12    2  109  138  265   60\n",
       "13  239  286   68   17   13\n",
       "14   56  248  214  295  117\n",
       "15  154  219   23  196  294\n",
       "16  220  294    1  188   76\n",
       "17  209  108   25   98  136\n",
       "18  205  144  160  243  146\n",
       "19  240  275  274  150  219"
      ]
     },
     "execution_count": 64,
     "metadata": {},
     "output_type": "execute_result"
    }
   ],
   "source": [
    "a"
   ]
  },
  {
   "cell_type": "code",
   "execution_count": 76,
   "id": "602286dc",
   "metadata": {
    "scrolled": false
   },
   "outputs": [
    {
     "data": {
      "text/html": [
       "<div>\n",
       "<style scoped>\n",
       "    .dataframe tbody tr th:only-of-type {\n",
       "        vertical-align: middle;\n",
       "    }\n",
       "\n",
       "    .dataframe tbody tr th {\n",
       "        vertical-align: top;\n",
       "    }\n",
       "\n",
       "    .dataframe thead th {\n",
       "        text-align: right;\n",
       "    }\n",
       "</style>\n",
       "<table border=\"1\" class=\"dataframe\">\n",
       "  <thead>\n",
       "    <tr style=\"text-align: right;\">\n",
       "      <th></th>\n",
       "      <th>a</th>\n",
       "      <th>b</th>\n",
       "      <th>d</th>\n",
       "      <th>e</th>\n",
       "    </tr>\n",
       "  </thead>\n",
       "  <tbody>\n",
       "    <tr>\n",
       "      <th>0</th>\n",
       "      <td>293</td>\n",
       "      <td>156</td>\n",
       "      <td>86</td>\n",
       "      <td>230</td>\n",
       "    </tr>\n",
       "    <tr>\n",
       "      <th>1</th>\n",
       "      <td>290</td>\n",
       "      <td>158</td>\n",
       "      <td>9</td>\n",
       "      <td>205</td>\n",
       "    </tr>\n",
       "    <tr>\n",
       "      <th>2</th>\n",
       "      <td>283</td>\n",
       "      <td>18</td>\n",
       "      <td>225</td>\n",
       "      <td>5</td>\n",
       "    </tr>\n",
       "    <tr>\n",
       "      <th>3</th>\n",
       "      <td>15</td>\n",
       "      <td>120</td>\n",
       "      <td>257</td>\n",
       "      <td>157</td>\n",
       "    </tr>\n",
       "    <tr>\n",
       "      <th>4</th>\n",
       "      <td>44</td>\n",
       "      <td>119</td>\n",
       "      <td>255</td>\n",
       "      <td>259</td>\n",
       "    </tr>\n",
       "    <tr>\n",
       "      <th>5</th>\n",
       "      <td>63</td>\n",
       "      <td>268</td>\n",
       "      <td>282</td>\n",
       "      <td>278</td>\n",
       "    </tr>\n",
       "    <tr>\n",
       "      <th>6</th>\n",
       "      <td>36</td>\n",
       "      <td>102</td>\n",
       "      <td>172</td>\n",
       "      <td>129</td>\n",
       "    </tr>\n",
       "    <tr>\n",
       "      <th>7</th>\n",
       "      <td>23</td>\n",
       "      <td>269</td>\n",
       "      <td>239</td>\n",
       "      <td>286</td>\n",
       "    </tr>\n",
       "    <tr>\n",
       "      <th>8</th>\n",
       "      <td>162</td>\n",
       "      <td>162</td>\n",
       "      <td>134</td>\n",
       "      <td>25</td>\n",
       "    </tr>\n",
       "    <tr>\n",
       "      <th>9</th>\n",
       "      <td>278</td>\n",
       "      <td>295</td>\n",
       "      <td>106</td>\n",
       "      <td>182</td>\n",
       "    </tr>\n",
       "    <tr>\n",
       "      <th>10</th>\n",
       "      <td>115</td>\n",
       "      <td>179</td>\n",
       "      <td>61</td>\n",
       "      <td>265</td>\n",
       "    </tr>\n",
       "    <tr>\n",
       "      <th>11</th>\n",
       "      <td>30</td>\n",
       "      <td>20</td>\n",
       "      <td>247</td>\n",
       "      <td>121</td>\n",
       "    </tr>\n",
       "    <tr>\n",
       "      <th>12</th>\n",
       "      <td>2</td>\n",
       "      <td>109</td>\n",
       "      <td>265</td>\n",
       "      <td>60</td>\n",
       "    </tr>\n",
       "    <tr>\n",
       "      <th>13</th>\n",
       "      <td>239</td>\n",
       "      <td>286</td>\n",
       "      <td>17</td>\n",
       "      <td>13</td>\n",
       "    </tr>\n",
       "    <tr>\n",
       "      <th>14</th>\n",
       "      <td>56</td>\n",
       "      <td>248</td>\n",
       "      <td>295</td>\n",
       "      <td>117</td>\n",
       "    </tr>\n",
       "    <tr>\n",
       "      <th>15</th>\n",
       "      <td>154</td>\n",
       "      <td>219</td>\n",
       "      <td>196</td>\n",
       "      <td>294</td>\n",
       "    </tr>\n",
       "    <tr>\n",
       "      <th>16</th>\n",
       "      <td>220</td>\n",
       "      <td>294</td>\n",
       "      <td>188</td>\n",
       "      <td>76</td>\n",
       "    </tr>\n",
       "    <tr>\n",
       "      <th>17</th>\n",
       "      <td>209</td>\n",
       "      <td>108</td>\n",
       "      <td>98</td>\n",
       "      <td>136</td>\n",
       "    </tr>\n",
       "    <tr>\n",
       "      <th>18</th>\n",
       "      <td>205</td>\n",
       "      <td>144</td>\n",
       "      <td>243</td>\n",
       "      <td>146</td>\n",
       "    </tr>\n",
       "    <tr>\n",
       "      <th>19</th>\n",
       "      <td>240</td>\n",
       "      <td>275</td>\n",
       "      <td>150</td>\n",
       "      <td>219</td>\n",
       "    </tr>\n",
       "  </tbody>\n",
       "</table>\n",
       "</div>"
      ],
      "text/plain": [
       "      a    b    d    e\n",
       "0   293  156   86  230\n",
       "1   290  158    9  205\n",
       "2   283   18  225    5\n",
       "3    15  120  257  157\n",
       "4    44  119  255  259\n",
       "5    63  268  282  278\n",
       "6    36  102  172  129\n",
       "7    23  269  239  286\n",
       "8   162  162  134   25\n",
       "9   278  295  106  182\n",
       "10  115  179   61  265\n",
       "11   30   20  247  121\n",
       "12    2  109  265   60\n",
       "13  239  286   17   13\n",
       "14   56  248  295  117\n",
       "15  154  219  196  294\n",
       "16  220  294  188   76\n",
       "17  209  108   98  136\n",
       "18  205  144  243  146\n",
       "19  240  275  150  219"
      ]
     },
     "execution_count": 76,
     "metadata": {},
     "output_type": "execute_result"
    }
   ],
   "source": [
    "a.drop(\"c\",axis=1)"
   ]
  },
  {
   "cell_type": "code",
   "execution_count": 77,
   "id": "3ce01840",
   "metadata": {},
   "outputs": [
    {
     "data": {
      "text/plain": [
       "(4, 2)"
      ]
     },
     "execution_count": 77,
     "metadata": {},
     "output_type": "execute_result"
    }
   ],
   "source": [
    "d.shape"
   ]
  },
  {
   "cell_type": "code",
   "execution_count": 80,
   "id": "7035d6c8",
   "metadata": {},
   "outputs": [
    {
     "name": "stdout",
     "output_type": "stream",
     "text": [
      "<class 'pandas.core.frame.DataFrame'>\n",
      "Int64Index: 4 entries, 1 to 4\n",
      "Data columns (total 2 columns):\n",
      " #   Column  Non-Null Count  Dtype \n",
      "---  ------  --------------  ----- \n",
      " 0   rainy   4 non-null      object\n",
      " 1   summer  4 non-null      object\n",
      "dtypes: object(2)\n",
      "memory usage: 96.0+ bytes\n"
     ]
    }
   ],
   "source": [
    "d.info()"
   ]
  },
  {
   "cell_type": "code",
   "execution_count": null,
   "id": "d59779d3",
   "metadata": {},
   "outputs": [],
   "source": [
    "\n"
   ]
  }
 ],
 "metadata": {
  "kernelspec": {
   "display_name": "Python 3 (ipykernel)",
   "language": "python",
   "name": "python3"
  },
  "language_info": {
   "codemirror_mode": {
    "name": "ipython",
    "version": 3
   },
   "file_extension": ".py",
   "mimetype": "text/x-python",
   "name": "python",
   "nbconvert_exporter": "python",
   "pygments_lexer": "ipython3",
   "version": "3.10.8"
  }
 },
 "nbformat": 4,
 "nbformat_minor": 5
}

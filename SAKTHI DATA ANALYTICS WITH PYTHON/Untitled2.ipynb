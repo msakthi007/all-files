{
 "cells": [
  {
   "cell_type": "code",
   "execution_count": 16,
   "id": "380be298",
   "metadata": {},
   "outputs": [],
   "source": [
    "sk={1:\"book\",2:\"customer=35\",3:45}"
   ]
  },
  {
   "cell_type": "markdown",
   "id": "68c24537",
   "metadata": {},
   "source": [
    "3"
   ]
  },
  {
   "cell_type": "code",
   "execution_count": 18,
   "id": "afa908c9",
   "metadata": {},
   "outputs": [
    {
     "data": {
      "text/plain": [
       "dict"
      ]
     },
     "execution_count": 18,
     "metadata": {},
     "output_type": "execute_result"
    }
   ],
   "source": [
    "type(sk)"
   ]
  },
  {
   "cell_type": "code",
   "execution_count": 19,
   "id": "df06b7bc",
   "metadata": {},
   "outputs": [
    {
     "data": {
      "text/plain": [
       "'book'"
      ]
     },
     "execution_count": 19,
     "metadata": {},
     "output_type": "execute_result"
    }
   ],
   "source": [
    "sk[1]"
   ]
  },
  {
   "cell_type": "code",
   "execution_count": 23,
   "id": "d7e3f07d",
   "metadata": {},
   "outputs": [
    {
     "data": {
      "text/plain": [
       "'customer=35'"
      ]
     },
     "execution_count": 23,
     "metadata": {},
     "output_type": "execute_result"
    }
   ],
   "source": [
    "\n",
    "sk[2\n",
    "]"
   ]
  },
  {
   "cell_type": "code",
   "execution_count": 21,
   "id": "af9950a1",
   "metadata": {},
   "outputs": [],
   "source": [
    "sk2={\"ben10\",\"doremon\",\"shinchan\",20,30,40}"
   ]
  },
  {
   "cell_type": "code",
   "execution_count": 24,
   "id": "43bf76c9",
   "metadata": {},
   "outputs": [
    {
     "data": {
      "text/plain": [
       "set"
      ]
     },
     "execution_count": 24,
     "metadata": {},
     "output_type": "execute_result"
    }
   ],
   "source": [
    "\n",
    "type(sk2)\n",
    "']'"
   ]
  },
  {
   "cell_type": "code",
   "execution_count": 6,
   "id": "2c6010d0",
   "metadata": {},
   "outputs": [
    {
     "ename": "IndentationError",
     "evalue": "unexpected indent (4034289854.py, line 2)",
     "output_type": "error",
     "traceback": [
      "\u001b[1;36m  Cell \u001b[1;32mIn [6], line 2\u001b[1;36m\u001b[0m\n\u001b[1;33m    notification=(1:\"this is morning\",2:)\u001b[0m\n\u001b[1;37m    ^\u001b[0m\n\u001b[1;31mIndentationError\u001b[0m\u001b[1;31m:\u001b[0m unexpected indent\n"
     ]
    }
   ],
   "source": [
    "timenow=input(\"enter time\")\n",
    "    notification=(1:\"this is morning\",2:)"
   ]
  },
  {
   "cell_type": "code",
   "execution_count": null,
   "id": "16fd956a",
   "metadata": {},
   "outputs": [],
   "source": [
    "timenow=input(\"enter time\")\n",
    "\n"
   ]
  },
  {
   "cell_type": "code",
   "execution_count": 11,
   "id": "31a94e2a",
   "metadata": {},
   "outputs": [
    {
     "name": "stdout",
     "output_type": "stream",
     "text": [
      "ypur total fare for 1 km is 2\n",
      "ypur total fare for 1 km is 2\n",
      "your total fare for3km is 6\n",
      "your total fare for4km is 8\n",
      "your total fare for5km is 10\n",
      "your total fare for6km is 12\n",
      "your total fare for7km is 14\n",
      "your total fare for8km is 16\n",
      "your total fare for9km is 18\n",
      "your total fare for10km is 20\n",
      "your total fare for11km is 22\n",
      "your total fare for12km is 24\n",
      "your total fare for13km is 26\n",
      "your total fare for14km is 28\n",
      "your total fare for15km is 30\n",
      "your total fare for16km is 32\n",
      "your total fare for17km is 34\n",
      "your total fare for18km is 36\n",
      "your total fare for19km is 38\n",
      "your total fare for20km is 40\n",
      "your total fare for21km is 42\n",
      "your total fare for22km is 44\n",
      "your total fare for23km is 46\n",
      "your total fare for24km is 48\n",
      "your total fare for25km is 50\n"
     ]
    }
   ],
   "source": [
    "fare_per_km=2\n",
    "for dist in range(1,26):\n",
    "    if dist>2:\n",
    "        total_fare=dist*2\n",
    "        print(f\"your total fare for{dist}km is {total_fare}\")\n",
    "        \n",
    "    else:\n",
    "            print(f\"ypur total fare for 1 km is 2\")"
   ]
  },
  {
   "cell_type": "code",
   "execution_count": null,
   "id": "f20046cc",
   "metadata": {},
   "outputs": [],
   "source": [
    "fare_per_km=2\n",
    "for dist in range(1,26):\n",
    "    if dist>2:\n",
    "        total_fare=dist*2\n",
    "        print(f\"your total fare for{dist}km is{total_fare}\")\n",
    "        \n",
    "    else:\n",
    "            print(f\"ypur total fare for 1 km is 2\")"
   ]
  },
  {
   "cell_type": "code",
   "execution_count": 13,
   "id": "be0e62ae",
   "metadata": {},
   "outputs": [
    {
     "name": "stdout",
     "output_type": "stream",
     "text": [
      "your total fare for 1 person is 150\n",
      "your total fare for 1 person is 150\n",
      "your total fare for 1 person is 150\n",
      "your total fare for 1 person is 150\n",
      "your total fare for 1 person is 150\n",
      "your total fare for 1 person is 150\n",
      "your total fare for 1 person is 150\n",
      "your total fare for 1 person is 150\n",
      "your total fare for 1 person is 150\n",
      "your total fare for 1 person is 150\n",
      "your total fare for 1 person is 150\n",
      "your total fare for 1 person is 150\n",
      "your total fare for 1 person is 150\n",
      "your total fare for 1 person is 150\n",
      "your total fare for 1 person is 150\n",
      "your total fare for 1 person is 150\n",
      "your total fare for 1 person is 150\n",
      "your total fare for 1 person is 150\n",
      "your total fare for 1 person is 150\n",
      "your total fare for 1 person is 150\n",
      "your total fare for 1 person is 150\n",
      "your total fare for 1 person is 150\n",
      "your total fare for 1 person is 150\n",
      "your total fare for 1 person is 150\n",
      "your total fare for 1 person is 150\n",
      "your total fare for 1 person is 150\n",
      "your total fare for 1 person is 150\n",
      "your total fare for 1 person is 150\n",
      "your total fare for 1 person is 150\n",
      "your total fare for 1 person is 150\n",
      "your total fare for 1 person is 150\n",
      "your total fare for 1 person is 150\n",
      "your total fare for 1 person is 150\n",
      "your total fare for 1 person is 150\n",
      "your total fare for 1 person is 150\n",
      "your total fare for 1 person is 150\n",
      "your total fare for 1 person is 150\n",
      "your total fare for 1 person is 150\n",
      "your total fare for 1 person is 150\n",
      "your total fare for 1 person is 150\n",
      "your total fare for 1 person is 150\n",
      "your total fare for 1 person is 150\n",
      "your total fare for 1 person is 150\n",
      "your total fare for 1 person is 150\n",
      "your total fare for 1 person is 150\n",
      "your total fare for 1 person is 150\n",
      "your total fare for 1 person is 150\n",
      "your total fare for 1 person is 150\n",
      "your total fare for 1 person is 150\n",
      "your total fare for 1 person is 150\n",
      "your total fare for 1 person is 150\n",
      "your total fare for 1 person is 150\n",
      "your total fare for 1 person is 150\n",
      "your total fare for 1 person is 150\n",
      "your total fare for 1 person is 150\n",
      "your total fare for 1 person is 150\n",
      "your total fare for 1 person is 150\n"
     ]
    },
    {
     "ename": "NameError",
     "evalue": "name 'ticket' is not defined",
     "output_type": "error",
     "traceback": [
      "\u001b[1;31m---------------------------------------------------------------------------\u001b[0m",
      "\u001b[1;31mNameError\u001b[0m                                 Traceback (most recent call last)",
      "Cell \u001b[1;32mIn [13], line 4\u001b[0m\n\u001b[0;32m      2\u001b[0m \u001b[38;5;28;01mfor\u001b[39;00m person \u001b[38;5;129;01min\u001b[39;00m \u001b[38;5;28mrange\u001b[39m(\u001b[38;5;241m5\u001b[39m,\u001b[38;5;241m66\u001b[39m):\n\u001b[0;32m      3\u001b[0m     \u001b[38;5;28;01mif\u001b[39;00m person\u001b[38;5;241m>\u001b[39m\u001b[38;5;241m61\u001b[39m:\n\u001b[1;32m----> 4\u001b[0m         total_fare\u001b[38;5;241m=\u001b[39m\u001b[43mticket\u001b[49m\u001b[38;5;241m*\u001b[39m\u001b[38;5;241m150\u001b[39m\n\u001b[0;32m      5\u001b[0m         \u001b[38;5;28mprint\u001b[39m(\u001b[38;5;124mf\u001b[39m\u001b[38;5;124m\"\u001b[39m\u001b[38;5;124myour total fare for\u001b[39m\u001b[38;5;132;01m{\u001b[39;00mperson\u001b[38;5;132;01m}\u001b[39;00m\u001b[38;5;124mticket is\u001b[39m\u001b[38;5;132;01m{\u001b[39;00mtotal_fare\u001b[38;5;132;01m}\u001b[39;00m\u001b[38;5;124m\"\u001b[39m)\n\u001b[0;32m      7\u001b[0m     \u001b[38;5;28;01melse\u001b[39;00m:\n",
      "\u001b[1;31mNameError\u001b[0m: name 'ticket' is not defined"
     ]
    }
   ],
   "source": [
    "fare_per_ticket=150\n",
    "for person in range(5,66):\n",
    "    if person>61:\n",
    "        total_fare=ticket*150\n",
    "        print(f\"your total fare for{person}ticket is{total_fare}\")\n",
    "              \n",
    "    else:\n",
    "              print(f\"your total fare for 1 person is 150\")"
   ]
  },
  {
   "cell_type": "code",
   "execution_count": 3,
   "id": "0d6b230c",
   "metadata": {},
   "outputs": [
    {
     "ename": "SyntaxError",
     "evalue": "expected ':' (216663083.py, line 3)",
     "output_type": "error",
     "traceback": [
      "\u001b[1;36m  Cell \u001b[1;32mIn [3], line 3\u001b[1;36m\u001b[0m\n\u001b[1;33m    while seating\u001b[0m\n\u001b[1;37m                  ^\u001b[0m\n\u001b[1;31mSyntaxError\u001b[0m\u001b[1;31m:\u001b[0m expected ':'\n"
     ]
    }
   ],
   "source": [
    "counter=2\n",
    "TCS=52\n",
    "while seating "
   ]
  },
  {
   "cell_type": "code",
   "execution_count": 4,
   "id": "a9bdbef5",
   "metadata": {},
   "outputs": [
    {
     "name": "stdout",
     "output_type": "stream",
     "text": [
      "enter limit10\n",
      "0\n",
      "1\n",
      "1\n",
      "1\n",
      "1\n",
      "2\n",
      "1\n",
      "2\n",
      "3\n",
      "2\n",
      "3\n",
      "5\n",
      "3\n",
      "5\n",
      "8\n",
      "5\n",
      "8\n",
      "13\n",
      "8\n",
      "13\n",
      "21\n",
      "13\n",
      "21\n",
      "34\n",
      "21\n",
      "34\n",
      "55\n",
      "34\n",
      "55\n",
      "89\n",
      "55\n",
      "89\n",
      "144\n"
     ]
    }
   ],
   "source": [
    "limit=int(input(\"enter limit\"))\n",
    "count=0\n",
    "a=0\n",
    "b=1 \n",
    "while count<=limit:\n",
    "    print(a)\n",
    "    \n",
    "    print(b)\n",
    "    c=a+b\n",
    "    print(c)\n",
    "    count+=1\n",
    "    a=b\n",
    "    b=c\n"
   ]
  },
  {
   "cell_type": "code",
   "execution_count": null,
   "id": "12cefe4c",
   "metadata": {},
   "outputs": [],
   "source": []
  },
  {
   "cell_type": "code",
   "execution_count": null,
   "id": "13a17697",
   "metadata": {},
   "outputs": [],
   "source": []
  }
 ],
 "metadata": {
  "kernelspec": {
   "display_name": "Python 3 (ipykernel)",
   "language": "python",
   "name": "python3"
  },
  "language_info": {
   "codemirror_mode": {
    "name": "ipython",
    "version": 3
   },
   "file_extension": ".py",
   "mimetype": "text/x-python",
   "name": "python",
   "nbconvert_exporter": "python",
   "pygments_lexer": "ipython3",
   "version": "3.10.8"
  }
 },
 "nbformat": 4,
 "nbformat_minor": 5
}
